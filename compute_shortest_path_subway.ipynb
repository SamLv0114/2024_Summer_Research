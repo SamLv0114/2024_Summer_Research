{
 "cells": [
  {
   "cell_type": "code",
   "execution_count": 18,
   "metadata": {},
   "outputs": [],
   "source": [
    "import pandas as pd\n",
    "import os\n",
    "import math\n",
    "import numpy as np\n",
    "import networkx as nx\n",
    "import my_nx as my_nx\n",
    "import matplotlib.pyplot as plt\n",
    "from datetime import datetime,time, timedelta\n",
    "import pickle\n",
    "from process_transfers import get_merged_stops, get_merged_stops_names\n",
    "from heapq import heappop, heappush\n",
    "import geopandas as gpd\n",
    "\n"
   ]
  },
  {
   "cell_type": "code",
   "execution_count": 19,
   "metadata": {},
   "outputs": [],
   "source": [
    "weekday_subway_network = pickle.load(open('subway_network_weekday.pickle', 'rb'))\n",
    "weekend_subway_network = pickle.load(open('subway_network_weekend.pickle', 'rb'))\n",
    "weekday_bus_network = pickle.load(open('bus_network_weekday.pickle', 'rb'))\n",
    "weekend_bus_network = pickle.load(open('bus_network_weekend.pickle', 'rb'))"
   ]
  },
  {
   "cell_type": "code",
   "execution_count": 21,
   "metadata": {},
   "outputs": [],
   "source": [
    "def compute_shortest_path(G, source, target, transfer_time=6, stop_time=1):\n",
    "    def dijkstra_with_transfers(G, source, target):\n",
    "        \n",
    "        # initilize the distance/travel time of every stop from the source stop to inifinity\n",
    "        distances = {node: float('inf') for node in G.nodes()}\n",
    "        distances[source] = 0\n",
    "        \n",
    "        \n",
    "        pq = [(0, source, None)]  # (distance, current_node, current_edge_routes)\n",
    "        \n",
    "        # keep track of the previous stop of the shortest path\n",
    "        previous_nodes = {node: None for node in G.nodes()}\n",
    "        \n",
    "        while pq:\n",
    "            # print(pq)\n",
    "            current_distance, current_node, current_edge_routes = heappop(pq)\n",
    "            \n",
    "            \n",
    "            if current_distance > distances[current_node]:\n",
    "                continue\n",
    "            \n",
    "            for neighbor in G.neighbors(current_node):\n",
    "                weight = G[current_node][neighbor]['travel_time']\n",
    "                edge_routes = set(G[current_node][neighbor]['routes'])\n",
    "                \n",
    "                # use to see if a transfer is needed\n",
    "                if current_edge_routes and not current_edge_routes.intersection(edge_routes):\n",
    "                    weight += transfer_time  # Add transfer time if no common routes\n",
    "                \n",
    "                new_distance = current_distance + weight + stop_time\n",
    "                \n",
    "                if new_distance < distances[neighbor]:\n",
    "                    distances[neighbor] = new_distance\n",
    "                    previous_nodes[neighbor] = current_node\n",
    "                    heappush(pq, (new_distance, neighbor, edge_routes))\n",
    "        \n",
    "        path = []\n",
    "        current_node = target\n",
    "        while current_node is not None:\n",
    "            path.append(current_node)\n",
    "            current_node = previous_nodes[current_node]\n",
    "        path.reverse()\n",
    "        \n",
    "        return path, distances[target]\n",
    "\n",
    "    shortest_path, total_travel_time = dijkstra_with_transfers(G, source, target)\n",
    "    \n",
    "    return shortest_path, total_travel_time"
   ]
  },
  {
   "cell_type": "code",
   "execution_count": 25,
   "metadata": {},
   "outputs": [
    {
     "data": {
      "text/plain": [
       "['101']"
      ]
     },
     "execution_count": 25,
     "metadata": {},
     "output_type": "execute_result"
    }
   ],
   "source": [
    "path, time = compute_shortest_path(weekday_subway_network, '101','101')\n",
    "path\n",
    "# time"
   ]
  },
  {
   "cell_type": "code",
   "execution_count": 23,
   "metadata": {},
   "outputs": [],
   "source": [
    "def plot_from_pickle(network, ax, path):\n",
    "    pos=nx.get_node_attributes(network, 'pos')\n",
    "    name = nx.get_node_attributes(network, 'name')\n",
    "    edge_labels = {(u, v): f\"{d['vechicle_trips']}, {d['travel_time']}\" for u, v, d in network.edges(data=True)}\n",
    "    \n",
    "    temp_path = [(path[i], path[i+1]) for i in range(len(path)-1)]\n",
    "    print(temp_path)\n",
    "    edge_colors = ['red' if (u,v) in temp_path else 'grey' for u,v,data in network.edges(data=True)]\n",
    "    \n",
    "    nx.draw(network, pos, ax=ax, edge_color=edge_colors, node_size=9, node_color='blue', labels=name, font_color='purple', font_size='12', with_labels=False, arrowsize=4, verticalalignment='bottom', connectionstyle='arc3, rad = 0.1', label=\"Bus Station\")\n",
    "    \n",
    "    # my_nx.my_draw_networkx_edge_labels(network, pos=pos, ax=ax, edge_labels=edge_labels, font_color='red', font_size=4, rotate=True, rad=0.1)\n",
    "    \n",
    "    # plt.title(f\"{title}\")\n",
    "    # plt.show()\n",
    "    \n",
    "# fig, ax = plt.subplots(figsize=(15,10))\n",
    "# plot_from_pickle(weekday_subway_network, ax, path)\n"
   ]
  },
  {
   "cell_type": "code",
   "execution_count": null,
   "metadata": {},
   "outputs": [],
   "source": []
  }
 ],
 "metadata": {
  "kernelspec": {
   "display_name": "Python 3",
   "language": "python",
   "name": "python3"
  },
  "language_info": {
   "codemirror_mode": {
    "name": "ipython",
    "version": 3
   },
   "file_extension": ".py",
   "mimetype": "text/x-python",
   "name": "python",
   "nbconvert_exporter": "python",
   "pygments_lexer": "ipython3",
   "version": "3.10.11"
  }
 },
 "nbformat": 4,
 "nbformat_minor": 2
}
